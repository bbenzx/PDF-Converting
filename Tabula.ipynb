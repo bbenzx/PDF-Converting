{
  "nbformat": 4,
  "nbformat_minor": 0,
  "metadata": {
    "colab": {
      "name": "Tabular.ipynb",
      "provenance": [],
      "collapsed_sections": [],
      "include_colab_link": true
    },
    "kernelspec": {
      "name": "python3",
      "display_name": "Python 3"
    },
    "language_info": {
      "name": "python"
    }
  },
  "cells": [
    {
      "cell_type": "markdown",
      "metadata": {
        "id": "view-in-github",
        "colab_type": "text"
      },
      "source": [
        "<a href=\"https://colab.research.google.com/github/bbenzx/PDF-Converting/blob/main/Tabula.ipynb\" target=\"_parent\"><img src=\"https://colab.research.google.com/assets/colab-badge.svg\" alt=\"Open In Colab\"/></a>"
      ]
    },
    {
      "cell_type": "code",
      "metadata": {
        "id": "6FFEdFxhYIQk",
        "colab": {
          "base_uri": "https://localhost:8080/"
        },
        "outputId": "69a9a997-9753-48fa-bbed-732975c267f4"
      },
      "source": [
        "!pip install -q tabula-py"
      ],
      "execution_count": 1,
      "outputs": [
        {
          "output_type": "stream",
          "name": "stdout",
          "text": [
            "\u001b[K     |████████████████████████████████| 12.0 MB 102 kB/s \n",
            "\u001b[?25h"
          ]
        }
      ]
    },
    {
      "cell_type": "code",
      "metadata": {
        "id": "mVtlB970XRGJ"
      },
      "source": [
        "import tabula as tb\n",
        "import pandas as pd\n",
        "import re\n",
        "import zipfile"
      ],
      "execution_count": 2,
      "outputs": []
    },
    {
      "cell_type": "code",
      "metadata": {
        "id": "JhvdMYHFWeVl"
      },
      "source": [
        "with zipfile.ZipFile(\"/content/Temp.zip\",\"r\") as zip_ref:\n",
        "    zip_ref.extractall(\"/content/\")"
      ],
      "execution_count": 3,
      "outputs": []
    },
    {
      "cell_type": "code",
      "metadata": {
        "id": "3SovxRyIfy_0"
      },
      "source": [
        "#file = '/content/file.pdf'\n",
        "#tb.convert_into(file, \"output.csv\", output_format=\"csv\", pages='all')"
      ],
      "execution_count": null,
      "outputs": []
    },
    {
      "cell_type": "code",
      "metadata": {
        "id": "SnbSiMOVQJeH"
      },
      "source": [
        "tb.convert_into_by_batch(\"/content/Temp/\", output_format='csv', pages='all')"
      ],
      "execution_count": null,
      "outputs": []
    },
    {
      "cell_type": "code",
      "metadata": {
        "id": "RWFyNRO1rxhq"
      },
      "source": [
        "df = pd.read_csv('/content/output.csv', encoding = 'utf-8', error_bad_lines=False)\n",
        "df"
      ],
      "execution_count": null,
      "outputs": []
    },
    {
      "cell_type": "code",
      "metadata": {
        "id": "nnnVijp_wktU"
      },
      "source": [
        "df.to_excel('benz20.xlsx', encoding='utf-8')"
      ],
      "execution_count": null,
      "outputs": []
    },
    {
      "cell_type": "code",
      "metadata": {
        "id": "nDN9NnWoardW"
      },
      "source": [
        "# A = 136 # Top\n",
        "# B = 157 # Left\n",
        "# C = 151 # Areas  Width\n",
        "# D = 630 # Areas  Length"
      ],
      "execution_count": null,
      "outputs": []
    },
    {
      "cell_type": "code",
      "metadata": {
        "id": "VkQrdW_4qjVE"
      },
      "source": [
        "# data = []\n",
        "# for i in range(3):\n",
        "#   temp = tb.read_pdf(file, area = (A,B,A+D,B+C), stream = True,pages = i+1)\n",
        "#   data.append(temp)"
      ],
      "execution_count": null,
      "outputs": []
    },
    {
      "cell_type": "code",
      "metadata": {
        "id": "sLuBsikCevqe"
      },
      "source": [
        ""
      ],
      "execution_count": null,
      "outputs": []
    }
  ]
}